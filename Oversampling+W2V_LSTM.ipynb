{
  "cells": [
    {
      "cell_type": "code",
      "execution_count": null,
      "metadata": {
        "id": "vffL9zMsDUOo"
      },
      "outputs": [],
      "source": [
        "# Ignore  the warnings\n",
        "import warnings\n",
        "warnings.filterwarnings('always')\n",
        "warnings.filterwarnings('ignore')\n",
        "\n",
        "# data visualisation and manipulation\n",
        "import numpy as np\n",
        "import pandas as pd\n",
        "import matplotlib.pyplot as plt\n",
        "from matplotlib import style\n",
        "import seaborn as sns\n",
        "import nltk\n",
        "\n",
        "#preprocessing\n",
        "from nltk.corpus import stopwords  #stopwords\n",
        "from nltk import word_tokenize,sent_tokenize # tokenizing\n",
        "from nltk.stem import PorterStemmer,LancasterStemmer  # using the Porter Stemmer and Lancaster Stemmer\n",
        "from nltk.stem.snowball import SnowballStemmer\n",
        "from nltk.tokenize import TweetTokenizer\n",
        "from nltk.stem import WordNetLemmatizer  # lemmatizer from WordNet\n",
        "\n",
        "# for part-of-speech tagging\n",
        "from nltk import pos_tag\n",
        "\n",
        "# for named entity recognition (NER)\n",
        "from nltk import ne_chunk\n",
        "\n",
        "# vectorizers for creating the document-term-matrix (DTM)\n",
        "from sklearn.feature_extraction.text import TfidfVectorizer,CountVectorizer\n",
        "\n",
        "# BeautifulSoup libraray\n",
        "from bs4 import BeautifulSoup \n",
        "\n",
        "import re # regex\n",
        "\n",
        "#model_selection\n",
        "from sklearn.model_selection import train_test_split,cross_validate\n",
        "from sklearn.model_selection import KFold\n",
        "from sklearn.model_selection import GridSearchCV\n",
        "\n",
        "#evaluation\n",
        "from sklearn.metrics import accuracy_score,roc_auc_score \n",
        "from sklearn.metrics import classification_report\n",
        "from mlxtend.plotting import plot_confusion_matrix\n",
        "\n",
        "#preprocessing scikit\n",
        "from sklearn.preprocessing import MinMaxScaler,StandardScaler,LabelEncoder\n",
        "from sklearn.impute import SimpleImputer\n",
        "\n",
        "#classifiaction.\n",
        "from sklearn.linear_model import LogisticRegression\n",
        "from sklearn.svm import LinearSVC,SVC\n",
        "from sklearn.neighbors import KNeighborsClassifier\n",
        "from sklearn.ensemble import RandomForestClassifier,GradientBoostingClassifier,AdaBoostClassifier\n",
        "from sklearn.tree import DecisionTreeClassifier\n",
        "from sklearn.naive_bayes import GaussianNB,MultinomialNB\n",
        "\n",
        "import nltk\n",
        "nltk.download('stopwords')\n",
        "nltk.download('punkt')\n",
        "nltk.download('wordnet')\n",
        "nltk.download('omw-1.4')\n",
        "\n",
        "#stop-words\n",
        "stop_words=set(nltk.corpus.stopwords.words('english'))\n",
        "\n",
        "#keras\n",
        "import keras\n",
        "from keras.preprocessing.text import one_hot,Tokenizer\n",
        "from keras_preprocessing.sequence import pad_sequences\n",
        "from keras.models import Sequential\n",
        "from keras.layers import Dense , Flatten ,Embedding,Input,CuDNNLSTM,LSTM\n",
        "from keras.models import Model\n",
        "from keras.preprocessing.text import text_to_word_sequence\n",
        "\n",
        "#gensim w2v\n",
        "#word2vec\n",
        "from gensim.models import Word2Vec"
      ]
    },
    {
      "cell_type": "code",
      "execution_count": null,
      "metadata": {
        "id": "CIrqQdukE49b"
      },
      "outputs": [],
      "source": [
        "from google.colab import drive\n",
        "drive.mount('/content/drive')"
      ]
    },
    {
      "cell_type": "code",
      "execution_count": null,
      "metadata": {
        "id": "Brl6gzfOp2l4"
      },
      "outputs": [],
      "source": [
        "%cd /content/drive/My Drive/"
      ]
    },
    {
      "cell_type": "code",
      "execution_count": null,
      "metadata": {
        "id": "wwFmBRsPFRpV"
      },
      "outputs": [],
      "source": [
        "df = pd.read_csv('cyberbullying_tweets.csv')\n",
        "df.head()"
      ]
    },
    {
      "cell_type": "code",
      "execution_count": null,
      "metadata": {
        "id": "Dx13qQ7CHQL6"
      },
      "outputs": [],
      "source": [
        "df = df.rename(columns={\"tweet_text\": \"tweet\", \"cyberbullying_type\": \"label\"})"
      ]
    },
    {
      "cell_type": "code",
      "execution_count": null,
      "metadata": {
        "id": "qKNUK6ZngD1S"
      },
      "outputs": [],
      "source": [
        "plt.figure(figsize = (7,7))\n",
        "sorted_counts = df['label'].value_counts()\n",
        "plt.pie(sorted_counts, labels = sorted_counts.index, startangle = 90, counterclock = False, wedgeprops = {'width' : 0.6},\n",
        "       autopct='%1.1f%%', pctdistance = 0.7, textprops = {'color': 'black', 'fontsize' : 15}, \n",
        "        colors = sns.color_palette(\"pastel\")[4:])\n",
        "plt.text(x = -0.40, y = 0, s = 'Total number of Tweets:')\n",
        "plt.text(x = -0.15, y = -0.1, s = format(df.shape[0]))\n",
        "plt.title('Pie chart for : Tweets in the Dataset', fontsize = 16);"
      ]
    },
    {
      "cell_type": "code",
      "execution_count": null,
      "metadata": {
        "id": "J0debaxcHIPj"
      },
      "outputs": [],
      "source": [
        "print(df['tweet'].isnull().sum())\n",
        "print(df['label'].isnull().sum())\n",
        "print(df.shape)"
      ]
    },
    {
      "cell_type": "code",
      "execution_count": null,
      "metadata": {
        "id": "w0wfuJOMH8OH"
      },
      "outputs": [],
      "source": [
        "for tweet in df['tweet'][:5]:\n",
        "    print(tweet+'\\n'+'\\n')"
      ]
    },
    {
      "cell_type": "code",
      "execution_count": null,
      "metadata": {
        "id": "zGdpiaANJXSY"
      },
      "outputs": [],
      "source": [
        "print(df['label'].unique())"
      ]
    },
    {
      "cell_type": "code",
      "execution_count": null,
      "metadata": {
        "id": "KbAJnNSyJH02"
      },
      "outputs": [],
      "source": [
        "def rename_label(label):\n",
        "    if(label == 'not_cyberbullying'):\n",
        "        return 0\n",
        "    else:\n",
        "        return 1"
      ]
    },
    {
      "cell_type": "code",
      "execution_count": null,
      "metadata": {
        "id": "_olFHs8jJjPh"
      },
      "outputs": [],
      "source": [
        "df['label']=df['label'].apply(rename_label)\n",
        "print(df['label'].unique())"
      ]
    },
    {
      "cell_type": "code",
      "execution_count": null,
      "metadata": {
        "id": "C77x21mpoH4g"
      },
      "outputs": [],
      "source": [
        "plt.figure(figsize = (7,7))\n",
        "sorted_counts = df['label'].value_counts()\n",
        "plt.pie(sorted_counts, labels = sorted_counts.index, startangle = 90, counterclock = False, wedgeprops = {'width' : 0.6},\n",
        "       autopct='%1.1f%%', pctdistance = 0.7, textprops = {'color': 'black', 'fontsize' : 15}, \n",
        "        colors = sns.color_palette(\"pastel\")[4:])\n",
        "plt.text(x = -0.40, y = 0, s = 'Total number of Tweets:')\n",
        "plt.text(x = -0.15, y = -0.1, s = format(df.shape[0]))\n",
        "plt.title('Pie chart for : Tweets in the Dataset', fontsize = 16);"
      ]
    },
    {
      "cell_type": "code",
      "execution_count": null,
      "metadata": {
        "id": "qyimcssILPPd"
      },
      "outputs": [],
      "source": [
        "df['label'].value_counts()"
      ]
    },
    {
      "cell_type": "code",
      "execution_count": null,
      "metadata": {
        "id": "5yh8wmaNj69C"
      },
      "outputs": [],
      "source": [
        "def cleanup(tweet):  \n",
        "  \n",
        "    tweet = re.sub(r'http\\S+', '', tweet)\n",
        "    tweet_text = re.sub(\"[^a-zA-Z]\",\" \",tweet)\n",
        "    word_tokens= tweet_text.lower().split()\n",
        "    word_tokens= tweet_text.split()\n",
        "    le=WordNetLemmatizer()\n",
        "    stop_words= set(stopwords.words(\"english\"))     \n",
        "    word_tokens= [le.lemmatize(w) for w in word_tokens if not w in stop_words]\n",
        "    \n",
        "    cleaned=\" \".join(word_tokens)\n",
        "    return cleaned"
      ]
    },
    {
      "cell_type": "code",
      "execution_count": null,
      "metadata": {
        "id": "dgQLkfXCkf3P"
      },
      "outputs": [],
      "source": [
        "# shuffling rows\n",
        "df = df.sample(frac=1).reset_index(drop=True)\n",
        "print(df.shape)"
      ]
    },
    {
      "cell_type": "code",
      "execution_count": null,
      "metadata": {
        "id": "KgQmZBDZkzwI"
      },
      "outputs": [],
      "source": [
        "#import gensim\n",
        "# # load Google's pre-trained Word2Vec model.\n",
        "#pre_w2v_model = gensim.models.KeyedVectors.load_word2vec_format(r'drive/Colab Notebooks/amazon food reviews/GoogleNews-vectors-negative300.bin', binary=True) \n"
      ]
    },
    {
      "cell_type": "markdown",
      "metadata": {
        "id": "-ztky6zhOV7w"
      },
      "source": [
        "Things we need to handle in this if required\n",
        "1. '@' - a person tagged anywhere in the text\n",
        "2. '#' - hashtags anywhere in the text\n",
        "3. Emojis\n",
        "4. Links"
      ]
    },
    {
      "cell_type": "code",
      "execution_count": null,
      "metadata": {
        "id": "hCNeoImqlSGb"
      },
      "outputs": [],
      "source": [
        "tokenizer = nltk.data.load('tokenizers/punkt/english.pickle')\n",
        "sentences=[]\n",
        "sum=0\n",
        "sumbeforecleaning=0\n",
        "for tweet in df['tweet']:\n",
        "    sumbeforecleaning +=len(tweet)\n",
        "    cleaned_sents=cleanup(tweet.strip())\n",
        "    sum+=len(cleaned_sents)\n",
        "    sents=tokenizer.tokenize(cleaned_sents)\n",
        "    for sent in sents:\n",
        "        sentences.append(sent.split()) # can use word_tokenize also.\n",
        "\n",
        "print(sumbeforecleaning)\n",
        "print(sum)\n",
        "print(len(sentences))  # total no of sentences"
      ]
    },
    {
      "cell_type": "code",
      "execution_count": null,
      "metadata": {
        "id": "FAchTtDl2lNe"
      },
      "outputs": [],
      "source": [
        "  # trying to print few sentences\n",
        "for te in sentences[:5]:\n",
        "    print(te,\"\\n\")"
      ]
    },
    {
      "cell_type": "code",
      "execution_count": null,
      "metadata": {
        "id": "-kY2Nt0TowPR"
      },
      "outputs": [],
      "source": [
        "import gensim\n",
        "w2v_model=gensim.models.Word2Vec(sentences=sentences,size=300,window=10,min_count=1)"
      ]
    },
    {
      "cell_type": "code",
      "execution_count": null,
      "metadata": {
        "id": "PPn-oPQjo570"
      },
      "outputs": [],
      "source": [
        "w2v_model.train(sentences,epochs=10,total_examples=len(sentences))"
      ]
    },
    {
      "cell_type": "code",
      "execution_count": null,
      "metadata": {
        "id": "7nWAZ5MzpF6x"
      },
      "outputs": [],
      "source": [
        "w2v_model.wv.get_vector('bitch')"
      ]
    },
    {
      "cell_type": "code",
      "execution_count": null,
      "metadata": {
        "id": "O8Mj4RGFpIds"
      },
      "outputs": [],
      "source": [
        "# total numberof extracted words.\n",
        "vocab=w2v_model.wv.vocab\n",
        "print(\"The total number of words are : \",len(vocab))"
      ]
    },
    {
      "cell_type": "code",
      "execution_count": null,
      "metadata": {
        "id": "6M8EL93GpRRN"
      },
      "outputs": [],
      "source": [
        "# words most similar to a given word.\n",
        "w2v_model.wv.most_similar('hoe')"
      ]
    },
    {
      "cell_type": "code",
      "execution_count": null,
      "metadata": {
        "id": "42M7BT7fpTil"
      },
      "outputs": [],
      "source": [
        "# similaraity b/w two words\n",
        "w2v_model.wv.similarity('hoe','whore')"
      ]
    },
    {
      "cell_type": "code",
      "execution_count": null,
      "metadata": {
        "id": "EyvfIL6Pqe4Y"
      },
      "outputs": [],
      "source": [
        "vocab=list(vocab.keys())\n",
        "print(len(vocab))"
      ]
    },
    {
      "cell_type": "code",
      "execution_count": null,
      "metadata": {
        "id": "BXqd8DQ_q_43"
      },
      "outputs": [],
      "source": [
        "# trying to print few vocab\n",
        "for v in vocab[:5]:\n",
        "    print(v,\"\\n\")"
      ]
    },
    {
      "cell_type": "code",
      "execution_count": null,
      "metadata": {
        "id": "BH871iAfqizx"
      },
      "outputs": [],
      "source": [
        "word_vec_dict={} #dict of words we are creating for our vocab\n",
        "for word in vocab:\n",
        "  word_vec_dict[word]=w2v_model.wv.get_vector(word)\n",
        "print(\"The no of key-value pairs : \",len(word_vec_dict)) # should come equal to vocab size\n",
        "  "
      ]
    },
    {
      "cell_type": "code",
      "execution_count": null,
      "metadata": {
        "id": "18mFDOwDqm59"
      },
      "outputs": [],
      "source": [
        "# cleaning\n",
        "df['tweet']=df['tweet'].apply(cleanup)"
      ]
    },
    {
      "cell_type": "code",
      "execution_count": null,
      "metadata": {
        "id": "DipC_Bn7q1DJ"
      },
      "outputs": [],
      "source": [
        "# now since we will have to pad we need to find the maximum lenght of any document.\n",
        "\n",
        "maxi=-1\n",
        "for i,rev in enumerate(df['tweet']):\n",
        "    tokens=rev.split()\n",
        "    if(len(tokens)>maxi):\n",
        "        maxi=len(tokens)\n",
        "print(maxi)"
      ]
    },
    {
      "cell_type": "code",
      "execution_count": null,
      "metadata": {
        "id": "LyrSffp2q_oz"
      },
      "outputs": [],
      "source": [
        "tok = Tokenizer()\n",
        "tok.fit_on_texts(df['tweet']) #Updates internal vocabulary based on a list of texts. word_index gives an index to each word\n",
        "vocab_size = len(tok.word_index) + 1\n",
        "print(vocab_size)\n",
        "encd_rev = tok.texts_to_sequences(df['tweet']) #Transforms each text in texts to a sequence of integers\n",
        "print(len(encd_rev))"
      ]
    },
    {
      "cell_type": "code",
      "execution_count": null,
      "metadata": {
        "id": "bY50QCvM93Bd"
      },
      "outputs": [],
      "source": [
        "print(list(df['label'])[0:5])\n",
        "print(len(list(df['label'])))\n",
        "print(len(encd_rev))"
      ]
    },
    {
      "cell_type": "code",
      "execution_count": null,
      "metadata": {
        "id": "QFnVajXE8Uvy"
      },
      "outputs": [],
      "source": [
        "oversampling_rate = 3\n",
        "print(\"Counter before oversampling\")\n",
        "from collections import Counter\n",
        "print(Counter(df['label']))\n",
        "x_text = encd_rev\n",
        "labels = df['label']\n",
        "NUM_CLASSES = 2\n",
        "    \n",
        "bully = [i for i in range(len(labels)) if labels[i] == 0]\n",
        "x_text = x_text + [x_text[x] for x in bully]*(oversampling_rate-1)\n",
        "labels = list(labels) + [1 for i in range(len(bully))]*(oversampling_rate-1)\n",
        "\n",
        "print(\"Counter after oversampling\")\n",
        "from collections import Counter\n",
        "print(len(labels))\n",
        "print(len(x_text))"
      ]
    },
    {
      "cell_type": "code",
      "execution_count": null,
      "metadata": {
        "id": "9tuwC7vlmcvb"
      },
      "outputs": [],
      "source": [
        "len(x_text)"
      ]
    },
    {
      "cell_type": "code",
      "execution_count": null,
      "metadata": {
        "id": "ykP5pvrtmegF"
      },
      "outputs": [],
      "source": [
        "len(labels)"
      ]
    },
    {
      "cell_type": "code",
      "execution_count": null,
      "metadata": {
        "id": "MJNh0rEyzdSH"
      },
      "outputs": [],
      "source": [
        "print(np.unique(labels))\n",
        "count1 = 0\n",
        "count0 = 0\n",
        "for i in labels:\n",
        "  if i == 1:\n",
        "    count1 += 1\n",
        "  else:\n",
        "    count0 += 1\n",
        "\n",
        "print(count0, count1)\n",
        "labels = keras.utils.to_categorical(labels)\n"
      ]
    },
    {
      "cell_type": "code",
      "execution_count": null,
      "metadata": {
        "id": "RgZ-er56AXFv"
      },
      "outputs": [],
      "source": [
        "encd_rev = x_text\n",
        "Y = labels"
      ]
    },
    {
      "cell_type": "code",
      "execution_count": null,
      "metadata": {
        "id": "gxm7llx_oV5m"
      },
      "outputs": [],
      "source": [
        "len(Y)"
      ]
    },
    {
      "cell_type": "code",
      "execution_count": null,
      "metadata": {
        "id": "44YoTFT5rQrX"
      },
      "outputs": [],
      "source": [
        "max_len = 496\n",
        "vocab_size = len(tok.word_index) + 1  # total no of words\n",
        "embed_dim=300"
      ]
    },
    {
      "cell_type": "code",
      "execution_count": null,
      "metadata": {
        "id": "RTUf0_8SsqOG"
      },
      "outputs": [],
      "source": [
        "pad_rev= pad_sequences(encd_rev, maxlen=max_len, padding='post')\n",
        "pad_rev.shape"
      ]
    },
    {
      "cell_type": "code",
      "execution_count": null,
      "metadata": {
        "id": "TR_2LUKs2TGr"
      },
      "outputs": [],
      "source": [
        "print(list(tok.word_index.items())[:5])"
      ]
    },
    {
      "cell_type": "code",
      "execution_count": null,
      "metadata": {
        "id": "BNUVSh9AHSn4"
      },
      "outputs": [],
      "source": [
        "embed_matrix=np.zeros(shape=(vocab_size,embed_dim))\n",
        "for word,i in tok.word_index.items():\n",
        "  embed_vector=word_vec_dict.get(word)\n",
        "  if embed_vector is not None:  # word is in the vocabulary learned by the w2v model\n",
        "    embed_matrix[i]=embed_vector"
      ]
    },
    {
      "cell_type": "code",
      "execution_count": null,
      "metadata": {
        "id": "tFw-y6U0hjG3"
      },
      "outputs": [],
      "source": [
        "embed_matrix.shape"
      ]
    },
    {
      "cell_type": "code",
      "execution_count": null,
      "metadata": {
        "id": "3NiGGM1uinVu"
      },
      "outputs": [],
      "source": [
        "pad_rev.shape"
      ]
    },
    {
      "cell_type": "code",
      "execution_count": null,
      "metadata": {
        "id": "X66s4g8Mraio"
      },
      "outputs": [],
      "source": [
        "# prepare train and val sets first\n",
        "# Y=keras.utils.to_categorical(df['label'])  # one hot target as required by NN.\n",
        "x_train,x_test,y_train,y_test=train_test_split(pad_rev,Y,test_size=0.20,random_state=42, stratify = Y)"
      ]
    },
    {
      "cell_type": "code",
      "execution_count": null,
      "metadata": {
        "id": "6rqp9v0IrqxQ"
      },
      "outputs": [],
      "source": [
        "from keras.initializers import Constant\n",
        "from keras.layers import ReLU\n",
        "from keras.layers import Dropout\n",
        "from keras.layers import LSTM"
      ]
    },
    {
      "cell_type": "markdown",
      "metadata": {
        "id": "73eO4nSw2LGR"
      },
      "source": [
        "1."
      ]
    },
    {
      "cell_type": "code",
      "execution_count": null,
      "metadata": {
        "id": "rh1h14Qw2GaO"
      },
      "outputs": [],
      "source": [
        "model=Sequential()\n",
        "model.add(Embedding(input_dim=vocab_size,output_dim=embed_dim,input_length=max_len,embeddings_initializer=Constant(embed_matrix)))\n",
        "model.add(Dropout(0.25))\n",
        "model.add(LSTM(64, input_shape=(10,1))) \n",
        "model.add(Dropout(0.50))\n",
        "model.add(Dense(2,activation='softmax'))\n",
        "\n",
        "model.compile(optimizer='adam',loss='categorical_crossentropy',metrics=['accuracy'])\n",
        "\n",
        "epochs=5\n",
        "batch_size=64\n",
        "\n",
        "model.fit(x_train,y_train,epochs=epochs,batch_size=batch_size,validation_data=(x_test,y_test))"
      ]
    },
    {
      "cell_type": "code",
      "execution_count": null,
      "metadata": {
        "id": "n6YxE8eOsKZT"
      },
      "outputs": [],
      "source": [
        "model.summary()"
      ]
    },
    {
      "cell_type": "code",
      "execution_count": null,
      "metadata": {
        "id": "nTr9GDmI697G"
      },
      "outputs": [],
      "source": [
        "from sklearn.metrics import classification_report\n",
        "y_test_bool=np.argmax(y_test,axis=1)\n",
        "y_pred = model.predict(x_test, verbose=1)\n",
        "y_pred_bool = np.argmax(y_pred, axis=1)\n",
        "\n",
        "print(classification_report(y_test_bool, y_pred_bool))"
      ]
    }
  ],
  "metadata": {
    "colab": {
      "provenance": []
    },
    "kernelspec": {
      "display_name": "Python 3",
      "name": "python3"
    },
    "language_info": {
      "name": "python"
    },
    "accelerator": "GPU",
    "gpuClass": "standard"
  },
  "nbformat": 4,
  "nbformat_minor": 0
}